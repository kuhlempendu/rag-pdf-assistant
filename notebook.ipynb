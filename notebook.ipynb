{
 "cells": [
  {
   "cell_type": "code",
   "execution_count": null,
   "id": "c7dff1e1",
   "metadata": {},
   "outputs": [],
   "source": [
    "import os\n",
    "from dotenv import load_dotenv\n",
    "\n",
    "load_dotenv()\n",
    "\n",
    "OPENAI_API_KEY = os.getenv(\"OPENAI_API_KEY\")\n",
    "\n",
    "MODEL = \"gpt-3.5-turbo\"\n",
    "# MODEL = \"mixtral:8x7b\"\n",
    "MODEL = \"llama2\"\n",
    "\n",
    "\n"
   ]
  },
  {
   "cell_type": "code",
   "execution_count": null,
   "id": "fa5f804d",
   "metadata": {},
   "outputs": [
    {
     "data": {
      "text/plain": [
       "\"Sure, here's one:\\n\\nWhy don't scientists trust atoms?\\nBecause they make up everything!\""
      ]
     },
     "execution_count": 60,
     "metadata": {},
     "output_type": "execute_result"
    }
   ],
   "source": [
    "from langchain_openai.chat_models import ChatOpenAI\n",
    "from langchain_community.llms import Ollama\n",
    "\n",
    "\n",
    "if MODEL.startswith(\"gpt\"):\n",
    "    model = ChatOpenAI(openai_api_key=OPENAI_API_KEY, model=MODEL)\n",
    "else:\n",
    "    model = Ollama(model=MODEL)\n",
    "\n",
    "model.invoke(\"Tell me a joke\")"
   ]
  },
  {
   "cell_type": "code",
   "execution_count": null,
   "id": "13d5a1ff",
   "metadata": {},
   "outputs": [
    {
     "data": {
      "text/plain": [
       "\"Sure! Here's one:\\n\\nWhy don't scientists trust atoms?\\nBecause they make up everything!\\n\\nI hope you find that amusing! Do you want to hear another one?\""
      ]
     },
     "execution_count": 64,
     "metadata": {},
     "output_type": "execute_result"
    }
   ],
   "source": [
    "from langchain_core.output_parsers import StrOutputParser\n",
    "\n",
    "parser = StrOutputParser()\n",
    "\n",
    "chain = model | parser\n",
    "chain.invoke(\"Tell me a joke\")\n"
   ]
  },
  {
   "cell_type": "code",
   "execution_count": 65,
   "id": "6d07d1f8",
   "metadata": {},
   "outputs": [
    {
     "data": {
      "text/plain": [
       "[Document(metadata={'producer': 'Microsoft® Word 2016', 'creator': 'Microsoft® Word 2016', 'creationdate': '2020-05-06T11:45:57+05:30', 'title': 'Characteristics, Importance and Objectives of Research: An Overview of the Indispensable of Ethical Research', 'author': 'Md. Sirajul Islam, Sofiah Samsudin', 'subject': 'International Journal of Scientific and Research Publications', 'keywords': 'characteristics of research, importance of research, objectives of research, research problem, research ethics, basic research, applied research.', 'moddate': '2020-05-06T11:45:57+05:30', 'source': 'ResearchObjectives.pdf', 'total_pages': 5, 'page': 0, 'page_label': '1'}, page_content=\"International Journal of Scientific and Research Publications, Volume 10, Issue 5, May 2020              331 \\nISSN 2250-3153   \\n  This publication is licensed under Creative Commons Attribution CC BY. \\nhttp://dx.doi.org/10.29322/IJSRP.10.05.2020.p10138    www.ijsrp.org \\nCharacteristics, Importance and Objectives of Research: \\nAn Overview of the Indispensable of Ethical Research \\nMd. Sirajul Islam1, Sofiah Samsudin2   \\n \\n* PhD candidate, Department of Qur’an & Sunnah Studies, Kulliyyah of Islamic Revealed Knowledge and Human Sciences, International Islamic \\nUniversity Malaysia, 53100 Jalan Gombak,  Kuala Lumpur, Malaysia \\n** Department of Qur’an & Sunnah Studies, Kulliyyah of Islamic Revealed Knowledge and Human Science, International Islamic University \\nMalaysia, 53100 Jalan Gombak, Selangor, Kuala Lumpur, Malaysia. \\n \\nDOI: 10.29322/IJSRP.10.05.2020.p10138 \\nhttp://dx.doi.org/10.29322/IJSRP.10.05.2020.p10138  \\n \\nAbstract- This study focuses on Characteristics, Importance and \\nObjectives  (CIO) of research. The main aim of this article is to \\nemphasize on research ethics. Knowledge in characteristics, \\nimportance and objectives of research motivate to be ethical in \\nresearch. It is the utmost importance knowing these three basic \\nsubjects of research for researchers specially for novice \\nresearchers. These improve research mentality, academic attitude \\nand way of thinking that enable researcher to choose research area, \\ngenerate constructive potential research title. In addition, motivate \\nto know what the problem is and cause of problem and how to \\nsolve the recognized valid problem. In fact, an outstanding unique \\ncontribution of a research depends on applying research ethics. A \\nprofound understanding the (CIO) of research reinforce research \\nmotive and enable to follow research ethics that is core \\nrequirement in each research activities.  \\n \\nIndex Terms- characteristics of research, importance of research, \\nobjectives of research, research  problem, research ethics, basic \\nresearch, applied research. \\n \\nI. INTRODUCTION \\nesearch is primarily an enterprise of knowledge construction. \\nThe researcher (and co -researchers), with his or her \\nparticipants, is engaged in producing knowledge 1.    Studying \\nmeanings and definitions of research help to understand basic \\nconcept of research. Also, we can know the basic idea of \\ncharacteristics, importance and objectives of research by studying \\n                                                 \\n1 Guillemin, M., & Gillam, L. (2004). Ethics, reflexivity, and \\n“ethically important moments” in research. Qualitative inquiry, \\n10(2), 261-280. \\n2 Blume, S., & Hiddinga, A. (2010). Disability studies as an \\nacademic field. Med. Anthropol, 22(2), 225-36. \\n3 Blaikie, N., & Priest, J. (2017). Social research: Paradigms in \\naction. John Wiley & Sons. \\n4 Galas, D. J., Patrinos, A., & DeLisi, C. (2017). Notes from a \\nRevolution Lessons from the Human Genome Project. Issues in \\nScience and Technology, 33(3), 57-62. \\n5 Iyama, S. (2004). The USPTO's proposal of a biological \\nresearch tool patent pool doesn't hold water. Stan. L. Rev., 57, \\n1223. \\nits meanings and definitions. Nevertheless, it is essent ial for \\nresearchers understanding the particularly characteristics, \\nimportance and objectives of research in the light of reliable \\nscholars’ opinion. These motivate a researcher to be a skilful and \\nan ethical researcher by following relevant research methodology \\nand research ethics as though they do not ignore CIO of research \\nwhich lead researcher to find appropriate answer of research \\nquestions that is expected objectives of each research forever. \\nUsually, any type of research cannot be conducted without s ome \\nbasic characteristics of research. Nevertheless, few characteristics \\nof research are depends on type, area and subject of research. For \\nexample, characteristics of disability research 2, characteristics of \\nsocial research 3, characteristics of biological  research4,5,.  Each\"),\n",
       " Document(metadata={'producer': 'Microsoft® Word 2016', 'creator': 'Microsoft® Word 2016', 'creationdate': '2020-05-06T11:45:57+05:30', 'title': 'Characteristics, Importance and Objectives of Research: An Overview of the Indispensable of Ethical Research', 'author': 'Md. Sirajul Islam, Sofiah Samsudin', 'subject': 'International Journal of Scientific and Research Publications', 'keywords': 'characteristics of research, importance of research, objectives of research, research problem, research ethics, basic research, applied research.', 'moddate': '2020-05-06T11:45:57+05:30', 'source': 'ResearchObjectives.pdf', 'total_pages': 5, 'page': 0, 'page_label': '1'}, page_content='example, characteristics of disability research 2, characteristics of \\nsocial research 3, characteristics of biological  research4,5,.  Each \\nresearch has a particular importance 6 and objective7. On the one \\nhand, objectiveless research is a vain effort; on the other hand, evil \\nobjective of a research is unethical effort. An ethical and skilful \\nresearcher is very conscious about valid and permissible objective \\nof research.  \\n \\nII. INDISPENSABLE OF ETHICAL RESEARCH  \\n         Ethics is a branch of philosophy that deals with morals.  It is \\nthe philosophy of what is right and wrong 8. Ethics is a branch of \\nphilosophy that theoretically, logically, and rationally determines \\nright from wrong, good from bad, moral from immoral, and just \\nfrom unjust actions, conducts, and behavior 9. The motive force \\nin Islamic ethics is the notion that every human being is called to \\n6 Arnold, C., & Voigt, K. I. (2017). Ecosystem Effects of the \\nIndustrial Internet of Things on Manufacturing Companies. Acta \\nInfologica, 1(2), 99-108. \\n7 Guil, J. M., Masiá, A. P., Paniego, A. R., & Menayo, J. T. \\n(1998). Energetics of H2 and O2 adsorption on Ir/γ-Al2O3 and \\nIr/SiO2 catalysts. Dependence on support and on metal particle \\nsize. Thermochimica acta, 312(1-2), 115-124. \\n8 Shamoo, A. E., & Dunigani, C. D. (2000). Ethics in Research2 \\n(44535B). Proceedings of the Society for Experimental Biology \\nand Medicine, 224(4), 205-210. \\n9 Mujtaba, B. G. (1997, March). Corporate Ethics Training \\nPrograms. In Developments in Business Simulation and \\nExperiential Learning: Proceedings of the Annual ABSEL \\nconference (Vol. 24). \\nR'),\n",
       " Document(metadata={'producer': 'Microsoft® Word 2016', 'creator': 'Microsoft® Word 2016', 'creationdate': '2020-05-06T11:45:57+05:30', 'title': 'Characteristics, Importance and Objectives of Research: An Overview of the Indispensable of Ethical Research', 'author': 'Md. Sirajul Islam, Sofiah Samsudin', 'subject': 'International Journal of Scientific and Research Publications', 'keywords': 'characteristics of research, importance of research, objectives of research, research problem, research ethics, basic research, applied research.', 'moddate': '2020-05-06T11:45:57+05:30', 'source': 'ResearchObjectives.pdf', 'total_pages': 5, 'page': 1, 'page_label': '2'}, page_content='International Journal of Scientific and Research Publications, Volume 10, Issue 5, May 2020              332 \\nISSN 2250-3153   \\n  This publication is licensed under Creative Commons Attribution CC BY. \\nhttp://dx.doi.org/10.29322/IJSRP.10.05.2020.p10138    www.ijsrp.org \\n\"command the good and forb id the evil 10\" (Qur’an 9:112, 22:41, \\n3:104) in all spheres of life (Qur’an 3:110)11. \\n                   \\nResearch ethics provides guidelines for the responsible conduct \\nof research to ensure all research is conducted at a high ethical \\nstandard12. It educates and monitors as well as enables responsible \\nscientists to confirm a high ethical standard in conducting \\nresearch13. It is worthwhile mentioning that the research ethics is \\na key part of advanced academic learning in all academic \\ndisciplines, as it prevents different forms of misconduct and \\nfraud14. Therefore, scientists have become increasingly aware of \\nthe importance of ethics in research and have contributed a great \\nlot towards ethics discourse15. \\n         There are at least two major dimensions of ethics in  all \\nresearch. These are (a) procedural ethics, which usually involves \\nseeking approval from a relevant ethics committee to undertake \\nresearch involving humans; and (b) “ethics in practice” or the \\neveryday ethical issues that arise in the doing of research. It could \\nbe argued that there is another dimension —research ethics as \\narticulated in professional codes of ethics or conduct. Most \\nprofessions and organizations have professional codes of conduct \\n(Bulmer,1982;16 Coady & Bloch, 1996;17 Homan, 1991)18. \\n         In fact, truth and trustworthy results are ‘flesh and bones’ of \\nscientific research. To have trustworthy results and to avoid \\nmisconduct, researchers should use optimal study designs and \\nfollow ethical standards 19. In the fight against intellectual  \\ndishonesty on ethics education in science has a significant place. \\nA general understanding of ethics in scientific research work in all \\nits stages had to be acquired during the undergraduate course 20. \\nDefinitely, the main motivation of research ethics is C IO; it is a \\nbasis of all other structures, frameworks and ethical paradigm of \\nresearch. Hence, profound understanding CIO of research is vital \\nsubject for all researchers.  \\n                                                 \\n10 Ismail, A. M., Mujani, W. K., Hussain, W. M. H. W., & \\nYa\\'akub, N. I. (2012). The missing of moral entity in modern \\ncivilization: values and social aspects. Advances in Natural and \\nApplied Sciences, 6(6), 985-995.  \\n11 Khan, A. A. (2012). Islamic Society: Ethics, Human Rights, \\nAdornments & Recreation. Defence Journal, 15(10), B1. \\n12 McKellar, K., & Toth, N. (2016). Ethical Considerations in \\nFace-to-Face and Internet-Mediated Research with Teenage \\nPopulations. In Perspectives on HCI Research with Teenagers \\n(pp. 29-59). Springer, Cham. \\n13 Kiulah, B. M. (2013). A Discussion On The Ethical Issues \\nEncountered In The Process Of Carrying Out Research. \\n14 Kruk, J. (2013). Good scientific practice and ethical \\nprinciples in scientific research and higher education. Central \\nEuropean Journal of Sport Sciences and Medicine, 1(1), 25-\\n29. \\n15 Master, Z. (2011). The responsible conduct of bioethics \\nresearch. Accountability in Research, 18(2), 102-119. \\n16 Bulmer, M. (Ed.). (1982). Social research ethics. London: \\nMacmillan. \\n17 Coady, M., & Bloch, S. (Eds.). (1996). Codes of ethics and the \\nprofessions. Melbourne, Australia: Melbourne University Press. \\n18 Guillemin, M., & Gillam, L. (2004). Ethics, reflexivity, and \\n“ethically important moments” in research. Qualitative inquiry, \\n10(2), 261-280. \\nIII. CHARACTERISTICS OF RESEARCH \\n         Commonly researcher has to adopt few essential  characters \\nto be a good researcher. By applying these characters research \\nwork will be progressed with systematically. I have mentioned \\nsome fundamental characteristics of research. Each researcher has'),\n",
       " Document(metadata={'producer': 'Microsoft® Word 2016', 'creator': 'Microsoft® Word 2016', 'creationdate': '2020-05-06T11:45:57+05:30', 'title': 'Characteristics, Importance and Objectives of Research: An Overview of the Indispensable of Ethical Research', 'author': 'Md. Sirajul Islam, Sofiah Samsudin', 'subject': 'International Journal of Scientific and Research Publications', 'keywords': 'characteristics of research, importance of research, objectives of research, research problem, research ethics, basic research, applied research.', 'moddate': '2020-05-06T11:45:57+05:30', 'source': 'ResearchObjectives.pdf', 'total_pages': 5, 'page': 1, 'page_label': '2'}, page_content='to be a good researcher. By applying these characters research \\nwork will be progressed with systematically. I have mentioned \\nsome fundamental characteristics of research. Each researcher has \\nto be attentive on these following characteristics:   \\n         Uses Scientific Methods: Research uses scientific methods \\nto discover facts and tries to give solutions to specified problems. \\nResearchers follow organised procedure to carry out research. To \\nreceive better results, scientific method is used for carrying out \\ninvestigation21. \\n         Continuous Process: It is a continuous process as it studies \\nexisting facts and also develops new facts. Research also tries to \\ndistinguish relationship among variables22. \\n         Multipurpose Activity: Research is a multipurpose activity \\nas it not only includes collection of data but also includes \\npredicting future, establishing relationship between variables, \\nfinding solutions to problems, and developing new theories, tools, \\nand concepts23. \\n         Maintains Objectiv ity and Eliminates Impartiality:  \\nResearch is based on suitable procedures. It collects appropriate, \\nprecise and objective data to understand research problem. After \\ndata collection, researcher process data, analyse it and arrive at \\nappropriate solutions24. \\n         Empirical Nature: Empirical research can be undertaken to \\nstudy situations where methods such as observation, \\nexperimentation or survey can be used for conducting research 25. \\nEmpirical approach used to contribute towards enhancing our \\nunderstanding of what the main research problems26. \\n         Generalisation: Research conclusions can be applied to a \\nlarge population. Research can be carried on sample of \\nrespondents that represents the universe where the conclusions \\n19 Masic, I. (2012). Plagiarism in scientific publishing. Acta \\nInformatica Medica, 20(4), 208. \\n20 Masic, I. (2012). Plagiarism in scientific publishing. Acta \\nInformatica Medica, 20(4), 208. \\n21Bhome, S. M., Prajapati, N., Deshmukh-Ghate, D., & Ghosh, A. \\n(2015). Research Methodology (Tools and Analysis), \\nHimalaya Publishing House.  \\n22Bhome, S. M., Prajapati, N., Deshmukh-Ghate, D., & Ghosh, A. \\n(2015). Research Methodology (Tools and Analysis), \\nHimalaya Publishing House.  \\n23Bhome, S. M., Prajapati, N., Deshmukh-Ghate, D., & Ghosh, A. \\n(2015). Research Methodology (Tools and Analysis), \\nHimalaya Publishing House.  \\n24Bhome, S. M., Prajapati, N., Deshmukh-Ghate, D., & Ghosh, A. \\n(2015). Research Methodology (Tools and Analysis), \\nHimalaya Publishing House.  \\n25Bhome, S. M., Prajapati, N., Deshmukh-Ghate, D., & Ghosh, A. \\n(2015). Research Methodology (Tools and Analysis), \\nHimalaya Publishing House.  \\n26 Giaglis, G. M. (2008). Directions and trends in knowledge \\nmanagement research: Results from an empirical analysis of \\nEuropean projects. In Knowledge Management: Concepts, \\nMethodologies, Tools, and Applications (pp. 1438-1449). IGI \\nGlobal.'),\n",
       " Document(metadata={'producer': 'Microsoft® Word 2016', 'creator': 'Microsoft® Word 2016', 'creationdate': '2020-05-06T11:45:57+05:30', 'title': 'Characteristics, Importance and Objectives of Research: An Overview of the Indispensable of Ethical Research', 'author': 'Md. Sirajul Islam, Sofiah Samsudin', 'subject': 'International Journal of Scientific and Research Publications', 'keywords': 'characteristics of research, importance of research, objectives of research, research problem, research ethics, basic research, applied research.', 'moddate': '2020-05-06T11:45:57+05:30', 'source': 'ResearchObjectives.pdf', 'total_pages': 5, 'page': 2, 'page_label': '3'}, page_content='International Journal of Scientific and Research Publications, Volume 10, Issue 5, May 2020              333 \\nISSN 2250-3153   \\n  This publication is licensed under Creative Commons Attribution CC BY. \\nhttp://dx.doi.org/10.29322/IJSRP.10.05.2020.p10138    www.ijsrp.org \\ngenerated through research can be applied to the complete \\nuniverse27. \\n         Researchers Controlled Movement of the Research \\nProcedure: In social research, there are many factors that have an \\neffect on result. Due to various factors, some of them can be \\nconsidered as controlled factors wh ile others can be tested for \\npossible consequences. But, it is difficult to execute controlled \\nexperiments in social researches, whereas it is easy to perform \\ncontrolled experiments in pure sciences28. \\n         Development of Concepts and Theories: Research helps to \\ndevelop new concepts and theories where these innovations can be \\nuseful for the betterment of society at a large scale 29. These \\ncharacters are useful for all type of research. Moreover, each type \\nof research has individual specific character.  \\n \\nIV. IMPORTANCE OF RESEARCH \\n         Research is an essential and powerful tool in leading man \\ntowards progress. Without systematic research there would have \\nbeen very little progress30. Hudson Maxim31 (1853-1927) said “All \\nprogress is born of inquiry 32. Doubt is often better than \\noverconfidence, for it leads to inquiry, and inquiry leads to \\ninvention”. Increased amounts of research make progress \\npossible33. Research is significant both in scientific and non -\\nscientific fields34. Research is important for the following reasons:  \\n(1) A research problem refers to a complexity which a researcher \\nor a scientific community or an industry or a government \\norganisation or a society experiences. It may be a theoretical or a \\n                                                 \\n27Bhome, S. M., Prajapati, N., Deshmukh-Ghate, D., & Ghosh, A. \\n(2015). Research Methodology (Tools and Analysis), \\nHimalaya Publishing House.  \\n28Bhome, S. M., Prajapati, N., Deshmukh-Ghate, D., & Ghosh, A. \\n(2015). Research Methodology (Tools and Analysis), \\nHimalaya Publishing House.  \\n29Bhome, S. M., Prajapati, N., Deshmukh-Ghate, D., & Ghosh, A. \\n(2015). Research Methodology (Tools and Analysis), \\nHimalaya Publishing House.  \\n30 Prabhat, P. and Meenu, M. P. (2015). Research \\nMethodology: Tools and Techniques, 1st ed, Bridge Center- \\nRomania. \\n31 Hudson Maxim (February 3, 1853 – May 6, 1927), was a \\nU.S. inventor and chemist who invented a variety of \\nexplosives, including smokeless gunpowder, Thomas Edison \\nreferred to him as \"the most versatile man in America\". \\n32 Bury, J. B., & Bury, J. B. (1987). The idea of progress: An \\ninquiry into its origin and growth. Courier Corporation. \\n33 Kothari, C. R. (2004). Research methodology: Methods and \\ntechniques. New Age International. \\n34 Bhome, S. M., Prajapati, N., Deshmukh-Ghate, D., & Ghosh, \\nA. (2015). Research Methodology (Tools and Analysis), \\nHimalaya Publishing House. \\n35 Bhome, S. M., Prajapati, N., Deshmukh-Ghate, D., & Ghosh, \\nA. (2015). Research Methodology (Tools and Analysis), \\nHimalaya Publishing House. \\n36 Bhome, S. M., Prajapati, N., Deshmukh-Ghate, D., & Ghosh, \\nA. (2015). Research Methodology (Tools and Analysis), \\nHimalaya Publishing House. \\npractical situation. It calls for a systematic underst anding and \\npossible solution35. (2). Research on existing theories and concepts \\nhelp us recognise their range and applications36. (3). It is the bank \\nof knowledge and provides strategy for solving problems37. (4). It \\nis important in industry and business for higher profits, output, and \\nefficiency and to improve the quality of products 38. (5). \\nMathematical and logical research on business and industry \\nreduces the problems in them 39. (6). It leads to the identification \\nand categorisation of new materials, new living things, new stars, \\netc40. (7). Inventions can be done through research 41. (8). Social'),\n",
       " Document(metadata={'producer': 'Microsoft® Word 2016', 'creator': 'Microsoft® Word 2016', 'creationdate': '2020-05-06T11:45:57+05:30', 'title': 'Characteristics, Importance and Objectives of Research: An Overview of the Indispensable of Ethical Research', 'author': 'Md. Sirajul Islam, Sofiah Samsudin', 'subject': 'International Journal of Scientific and Research Publications', 'keywords': 'characteristics of research, importance of research, objectives of research, research problem, research ethics, basic research, applied research.', 'moddate': '2020-05-06T11:45:57+05:30', 'source': 'ResearchObjectives.pdf', 'total_pages': 5, 'page': 2, 'page_label': '3'}, page_content=\"and categorisation of new materials, new living things, new stars, \\netc40. (7). Inventions can be done through research 41. (8). Social \\nresearch helps find answers to social problems. They explain \\nsocial phenomena and try to find solution to social problems42.  \\nThus, research is the fountain of knowledge for the sake of \\nknowledge and an important source of providing guidelines for \\nsolving different business, governmental and social problems. It is \\na category of formal training which enables one to understand the \\nnew developments in one’s field in a better way43.  \\n  \\nV. OBJECTIVES OF RESEARCH  \\n         In my opinion, if we want to know objectives, type and \\nmethod of research we have to focus on meaning and definitions \\nof research. Really, there have main objectives of research in \\nmeaning and definitions of research. Nevertheless, the researcher \\npresented distinctly objectives of research from research \\nmethodology literatures.  \\n         The purpose of research is to discover answers to questions \\nthrough the application of scientific procedures. The main aim of \\nAlso see: Bambale, A. (2014). Facilitating the PhD research \\nprocess: Guides for identifying research problem and \\nestablishing research gap'. International Journal of Business, \\nHumanities and Technology, 4(1), 116-124. \\n37 Bhome, S. M., Prajapati, N., Deshmukh-Ghate, D., & Ghosh, \\nA. (2015). Research Methodology (Tools and Analysis), \\nHimalaya Publishing House. \\n38 Bhome, S. M., Prajapati, N., Deshmukh-Ghate, D., & Ghosh, \\nA. (2015). Research Methodology (Tools and Analysis), \\nHimalaya Publishing House. \\n39 Bhome, S. M., Prajapati, N., Deshmukh-Ghate, D., & Ghosh, \\nA. (2015). Research Methodology (Tools and Analysis), \\nHimalaya Publishing House. \\nAlso see: Rexford, N., & Cunnington, P. Methodology/Dress \\nHistory/Historiography. \\n40 Bhome, S. M., Prajapati, N., Deshmukh-Ghate, D., & Ghosh, \\nA. (2015). Research Methodology (Tools and Analysis), \\nHimalaya Publishing House. \\n41 Bhome, S. M., Prajapati, N., Deshmukh-Ghate, D., & Ghosh, \\nA. (2015). Research Methodology (Tools and Analysis), \\nHimalaya Publishing House. \\n42 Bhome, S. M., Prajapati, N., Deshmukh-Ghate, D., & Ghosh, \\nA. (2015). Research Methodology (Tools and Analysis), \\nHimalaya Publishing House. \\n43 Kothari, C. R. (2004). Research methodology: Methods and \\ntechniques. New Age International.\"),\n",
       " Document(metadata={'producer': 'Microsoft® Word 2016', 'creator': 'Microsoft® Word 2016', 'creationdate': '2020-05-06T11:45:57+05:30', 'title': 'Characteristics, Importance and Objectives of Research: An Overview of the Indispensable of Ethical Research', 'author': 'Md. Sirajul Islam, Sofiah Samsudin', 'subject': 'International Journal of Scientific and Research Publications', 'keywords': 'characteristics of research, importance of research, objectives of research, research problem, research ethics, basic research, applied research.', 'moddate': '2020-05-06T11:45:57+05:30', 'source': 'ResearchObjectives.pdf', 'total_pages': 5, 'page': 3, 'page_label': '4'}, page_content='International Journal of Scientific and Research Publications, Volume 10, Issue 5, May 2020              334 \\nISSN 2250-3153   \\n  This publication is licensed under Creative Commons Attribution CC BY. \\nhttp://dx.doi.org/10.29322/IJSRP.10.05.2020.p10138    www.ijsrp.org \\nresearch is to find out the truth (information, causes, purposes, \\nfacts, knowledge, philosophy and so on) which is hidden and \\nwhich has not been discovered as yet. Though each research study \\nhas its own specific purpose, we may think of research objectives \\nmight be into a number of vital objectives44. For example,  (1) To \\nportray accurately the characteristics of a particular individual, \\nsituation or a group (studies with this object in view are known as \\ndescriptive research studies) 45. (2) To determine the frequency \\nwith which something occurs or with which it is associated with \\nsomething else (studies with this object in view are known as \\ndiagnostic research studies)46. (3) To test a hypothesis of a causal \\nrelationship between variables  (such studies are known as \\nhypothesis-testing research studies)47. (4) To understand clearly an \\nobserved phenomenon and explain its logic and reason for \\nhappening. (5) To get insights about problem. (6) To find solutions \\nfor a problem. (7) To test existing laws or theories. (8) To develop \\nnew ideas, concepts and theories. (9) To identify areas where \\nresearch could make the difference. (10) To predict future of \\nevents48. Additionally,  (11) To interpret  theory. (12) To develop \\nresearch methodology from the d ivine perspective. (13) To \\ninterpret the divine knowledge (14) To derive philosophy, \\nprinciple and solution of problem from the Holy Qur’an (15) To \\nunderstand the truth and reality. (16) To know the sciences (17) \\nTo know the divine creativities  in Creatio n. (18) To appropriate \\nmanagement of resources. (19) To establish human and \\nenvironment friendly society. (20) To know the Creator. (21) To \\nknow the purpose of human life. (22) To know how to protect \\nhuman life from astray. (23) To arrange acceptable answer of valid \\nresearch questions. (24) To extend dimensions of beneficial \\nknowledge. (25) To identify the research gap in basic research. \\n(26) To recognize the research problem in applied research. (27) \\nTo arrest the causes of problem. (28) To examine past re search \\nworks.  \\n         These objectives are a summary of meaning and definition \\nof research. From these objectives one more or two more or three \\nmore objectives could be in a research. It is not a mandatory must \\nbe only an objective or one more objectives in a research. Research \\nwork cannot be conducted aimlessly. Hence, must be minimum an \\nobjective in a research.  \\n \\nVI. CONCLUSION \\n         We cannot confine Characteristic, Importance and \\nObjectives (CIO) of research. These rely on type, area and topic \\n                                                 \\n44 Kothari, C. R. (2004). Research methodology: Methods and \\ntechniques. New Age International. \\n45 Kothari, C. R. (2004). Research methodology: Methods and \\ntechniques. New Age International. \\nAlso: Tyagi, N., Varshney, R. G., & Chandramouli, A. B. (2013). \\nA novel approach to study the research methodology. \\nInternational Journal of Management, IT and Engineering, \\n3(11), 248. \\n46 Donnell, J. D. (1970). Empirical Research: A Key to the \\nKingdom for the Business Law Instructor. Am. Bus. LJ, 8, 287. \\nAlso: Kothari, C. R. (2004). Research methodology: Methods \\nand techniques. New Age International. \\nof research. Fundamental CIO of research generally for all type \\nand area of research have been presented in this article. In fact, \\neach researcher has to know these CIO, and endeavour first of all \\nwhat are academically approvals CIO of his research. Also, have \\nto be determined on legal CIO of his research from beginning to \\nconclusion. Should be strictly determined on that should not be \\nmoved away from research ethics by any interfering, unethical'),\n",
       " Document(metadata={'producer': 'Microsoft® Word 2016', 'creator': 'Microsoft® Word 2016', 'creationdate': '2020-05-06T11:45:57+05:30', 'title': 'Characteristics, Importance and Objectives of Research: An Overview of the Indispensable of Ethical Research', 'author': 'Md. Sirajul Islam, Sofiah Samsudin', 'subject': 'International Journal of Scientific and Research Publications', 'keywords': 'characteristics of research, importance of research, objectives of research, research problem, research ethics, basic research, applied research.', 'moddate': '2020-05-06T11:45:57+05:30', 'source': 'ResearchObjectives.pdf', 'total_pages': 5, 'page': 3, 'page_label': '4'}, page_content=\"to be determined on legal CIO of his research from beginning to \\nconclusion. Should be strictly determined on that should not be \\nmoved away from research ethics by any interfering, unethical \\ninfluence, political force, secularism notion as well as unethical \\npersonal interest that is anti -religious, and harmful for social and \\nnatural environment and so on. Unfortunately, few so -called \\nresearchers who give priority unethical interest on research ethics; \\nconsequently they underestimate the CIO of their research. \\nTherefore, in this case we ethical researchers, scholars and \\nscientists do not allow this is an acceptable research. Unethical \\nresearch is poison in research resources. Apparently, such \\nresearches have been polluting the research environment as well \\nas rese arch world for a long period. Hence, appreciation \\ncharacteristics, importance and objectives of research are keys for \\nethical, acceptable and fruitful research for ever.  \\n \\nREFERENCES \\n[1] Arnold, C., & Voigt, K. I. (2017). Ecosystem Effects of the Industrial Internet \\nof Things on Manufacturing Companies. Acta Infologica, 1(2), 99-108. \\n[2] Bambale, A. (2014). Facilitating the PhD research process: Guides for \\nidentifying research problem and establishing research gap'. International \\nJournal of Business, Humanities and Technology, 4(1), 116-124. \\n[3] Bhome, S. M., Prajapati, N., Deshmukh -Ghate, D., & Ghosh, A. (2015). \\nResearch Methodology (Tools and Analysis), Himalaya Publishing House. \\n[4] Bist, R. B. (2014). Research Procedure: An Introduction. Journal of NELTA \\nSurkhet, 4, 34-40. \\n[5] Blaikie, N., & Priest, J. (2017). Social research: Paradigms in action. John \\nWiley & Sons. \\n[6] Blume, S., & Hiddinga, A. (2010). Disability studies as an academic field. \\nMed. Anthropol, 22(2), 225-36. \\n[7] Bulmer, M. (Ed.). (1982). Social research ethics. London: Macmillan. \\n[8] Bury, J. B., & Bury, J. B. (1987). The idea of progress: An inquiry into its \\norigin and growth. Courier Corporation. \\n[9] Coady, M., & Bloch, S. (Eds.). (1996). Codes of ethics and the professions. \\nMelbourne, Australia: Melbourne University Press. \\n[10] Donnell, J. D. (1970). Empirical Research: A Key to the Kingdom for the \\nBusiness Law Instructor. Am. Bus. LJ, 8, 287. \\n[11] Galas, D. J., Patrinos, A., & DeLisi, C. (2017). Notes from a Revolution \\nLessons from the Human Genome Project. Issues in Science and Technology, \\n33(3), 57-62. \\n[12] Giaglis, G. M. (2008). Directions and trends in knowledge management \\nresearch: Results from an empirical analysis of European projects. In \\n47 Kothari, C. R. (2004). Research methodology: Methods and \\ntechniques. New Age International. \\nAlso see: Singh, B. B., & Guled, C. N. (2016). Conceptuality Of \\nResearch Methodology: Some Introductory Remarks. \\nEveryman’s Science, 156. \\nAlso see: Janota, A., Lobotková, Z., Slivka, M., & Halgaš, J. \\n(2010). The role of hypothesis in scientific research. \\nLogistyka, (6). \\nAlso see: Bist, R. B. (2014). Research Procedure: An \\nIntroduction. Journal of NELTA Surkhet, 4, 34-40. \\n48 Bhome, S. M., Prajapati, N., Deshmukh-Ghate, D., & Ghosh, \\nA. (2015). Research Methodology (Tools and Analysis), \\nHimalaya Publishing House.\"),\n",
       " Document(metadata={'producer': 'Microsoft® Word 2016', 'creator': 'Microsoft® Word 2016', 'creationdate': '2020-05-06T11:45:57+05:30', 'title': 'Characteristics, Importance and Objectives of Research: An Overview of the Indispensable of Ethical Research', 'author': 'Md. Sirajul Islam, Sofiah Samsudin', 'subject': 'International Journal of Scientific and Research Publications', 'keywords': 'characteristics of research, importance of research, objectives of research, research problem, research ethics, basic research, applied research.', 'moddate': '2020-05-06T11:45:57+05:30', 'source': 'ResearchObjectives.pdf', 'total_pages': 5, 'page': 4, 'page_label': '5'}, page_content='International Journal of Scientific and Research Publications, Volume 10, Issue 5, May 2020              335 \\nISSN 2250-3153   \\n  This publication is licensed under Creative Commons Attribution CC BY. \\nhttp://dx.doi.org/10.29322/IJSRP.10.05.2020.p10138    www.ijsrp.org \\nKnowledge Management: Concepts, Methodologies, Tools, and Applications \\n(pp. 1438-1449). IGI Global. \\n[13] Guil, J. M., Masiá, A. P., Paniego, A. R., & Menayo, J. T. (1998). Energetics \\nof H2 and O2 adsorption on Ir/γ -Al2O3 and Ir/SiO2 catalysts. Dependence \\non support and on metal particle size. Thermochimica acta, 312(1 -2), 115-\\n124. \\n[14] Guillemin, M., & Gil lam, L. (2004). Ethics, reflexivity, and “ethically \\nimportant moments” in research. Qualitative inquiry, 10(2), 261-280. \\n[15] Hudson Maxim (February 3, 1853 – May 6, 1927), was a U.S. inventor and \\nchemist who invented a variety of explosives, including smokeles s \\ngunpowder, Thomas Edison referred to him as \"the most versatile man in \\nAmerica\". \\n[16] Ismail, A. M., Mujani, W. K., Hussain, W. M. H. W., & Ya\\'akub, N. I. (2012). \\nThe missing of moral entity in modern civilization: values and social aspects. \\nAdvances in Natural and Applied Sciences, 6(6), 985-995.  \\n[17] Iyama, S. (2004). The USPTO\\'s proposal of a biological research tool patent \\npool doesn\\'t hold water. Stan. L. Rev., 57, 1223. \\n[18] Janota, A., Lobotková, Z., Slivka, M., & Halgaš, J. (2010). The role of \\nhypothesis in scientific research. Logistyka, (6). \\n[19] Khan, A. A. (2012). Islamic Society: Ethics, Human Rights, Adornments & \\nRecreation. Defence Journal, 15(10), B1. \\n[20] Kiulah, B. M. (2013). A Discussion On The Ethical Issues Encountered In \\nThe Process Of Carrying Out Research. \\n[21] Kothari, C. R. (2004). Research methodology: Methods and techniques. New \\nAge International. \\n[22] Kruk, J. (2013). Good scientific practice and ethical principles in scientific \\nresearch and higher education. Central European Journal of Sport Sciences \\nand Medicine, 1(1), 25-29. \\n[23] Masic, I. (2012). Plagiarism in scientific publishing. Acta Informatica \\nMedica, 20(4), 208. \\n[24] Master, Z. (2011). The responsible conduct of bioethics research. \\nAccountability in Research, 18(2), 102-119. \\n[25] McKellar, K., & Toth, N. (2016). Ethical Considerations in Face-to-Face and \\nInternet-Mediated Research with Teenage Populations. In Perspectives on \\nHCI Research with Teenagers (pp. 29-59). Springer, Cham. \\n[26] Mujtaba, B. G. (1997, March). Corporate Ethics Training Programs. In \\nDevelopments in Bus iness Simulation and Experiential Learning: \\nProceedings of the Annual ABSEL conference (Vol. 24). \\n[27] Prabhat, P. and Meenu, M. P. (2015). Research Methodology: Tools and \\nTechniques, 1st ed, Bridge Center- Romania. \\n[28] Rexford, N., & Cunnington, P. Methodology/Dress History/Historiography. \\n[29] Shamoo, A. E., & Dunigani, C. D. (2000). Ethics in Research2 (44535B). \\nProceedings of the Society for Experimental Biology and Medicine, 224(4), \\n205-210. \\n[30] Singh, B. B., & Guled, C. N. (2016). Conceptuality Of Resear ch \\nMethodology: Some Introductory Remarks. Everyman’s Science, 156. \\n[31] Tyagi, N., Varshney, R. G., & Chandramouli, A. B. (2013). A novel approach \\nto study the research methodology. International Journal of Management, IT \\nand Engineering, 3(11), 248. \\n \\nAUTHORS \\nFirst Author –  Md. Sirajul Islam ibn Sultan Ahmad, PhD \\ncandidate, Department of Qur’an & Sunnah Studies, Kulliyyah of \\nIslamic Revealed Knowledge and Human Sciences, International \\nIslamic University Malaysia, 53100 Jalan Gombak,  Kuala \\nLumpur, Malaysia.  E-mail: sirajulislam1981@yahoo.com   \\nSecond Author – Assistant Prof. Dr. Sofiah Bt. Samsudin, \\nDepartment of Qur’an & Sunnah Studies, Kulliyyah of Islamic \\nRevealed Knowledge and Human Science, International Islamic \\nUniversity Malaysia, 53100 Jalan Gombak, Selangor, Kuala \\nLumpur, Malaysia. E-mail: Sofiahs@iium.edu.my')]"
      ]
     },
     "execution_count": 65,
     "metadata": {},
     "output_type": "execute_result"
    }
   ],
   "source": [
    "from langchain_community.document_loaders import PyPDFLoader\n",
    "\n",
    "loader = PyPDFLoader(\"ResearchObjectives.pdf\")\n",
    "pages = loader.load_and_split()\n",
    "pages"
   ]
  },
  {
   "cell_type": "code",
   "execution_count": 66,
   "id": "d6e7179b",
   "metadata": {},
   "outputs": [
    {
     "data": {
      "text/plain": [
       "'\\nAnswer the question based on the context below. If you can\\'t \\nanswer the question, reply \"I dont know\"\\n\\nContext: Here is some context\\n\\nQuestion: Here is a question\\n'"
      ]
     },
     "execution_count": 66,
     "metadata": {},
     "output_type": "execute_result"
    }
   ],
   "source": [
    "from langchain.prompts import PromptTemplate\n",
    "\n",
    "template = \"\"\"\n",
    "Answer the question based on the context below. If you can't \n",
    "answer the question, reply \"I dont know\"\n",
    "\n",
    "Context: {context}\n",
    "\n",
    "Question: {question}\n",
    "\"\"\"\n",
    "prompt = PromptTemplate.from_template(template)\n",
    "prompt.format(context=\"Here is some context\", question=\"Here is a question\")"
   ]
  },
  {
   "cell_type": "code",
   "execution_count": 67,
   "id": "967eca0f",
   "metadata": {},
   "outputs": [],
   "source": [
    "chain = prompt | model | parser"
   ]
  },
  {
   "cell_type": "code",
   "execution_count": 71,
   "id": "81b07b6d",
   "metadata": {},
   "outputs": [
    {
     "name": "stderr",
     "output_type": "stream",
     "text": [
      "C:\\Users\\mpendul\\AppData\\Local\\Temp\\ipykernel_17096\\3226659032.py:1: PydanticDeprecatedSince20: The `schema` method is deprecated; use `model_json_schema` instead. Deprecated in Pydantic V2.0 to be removed in V3.0. See Pydantic V2 Migration Guide at https://errors.pydantic.dev/2.11/migration/\n",
      "  chain.input_schema.schema()\n"
     ]
    },
    {
     "data": {
      "text/plain": [
       "{'properties': {'context': {'title': 'Context', 'type': 'string'},\n",
       "  'question': {'title': 'Question', 'type': 'string'}},\n",
       " 'required': ['context', 'question'],\n",
       " 'title': 'PromptInput',\n",
       " 'type': 'object'}"
      ]
     },
     "execution_count": 71,
     "metadata": {},
     "output_type": "execute_result"
    }
   ],
   "source": [
    "chain.input_schema.schema()"
   ]
  },
  {
   "cell_type": "code",
   "execution_count": 70,
   "id": "d4b88c44",
   "metadata": {},
   "outputs": [
    {
     "data": {
      "text/plain": [
       "'Sure! Based on the context you provided, your name is Linda Okuhle.'"
      ]
     },
     "execution_count": 70,
     "metadata": {},
     "output_type": "execute_result"
    }
   ],
   "source": [
    "chain.invoke(\n",
    "    {\n",
    "       \"context\": \"The name I was given was Linda Okuhle\",\n",
    "\n",
    "       \"question\": \"What is my name?\"\n",
    "    }\n",
    ")"
   ]
  },
  {
   "cell_type": "code",
   "execution_count": null,
   "id": "4ac312c6",
   "metadata": {},
   "outputs": [],
   "source": []
  },
  {
   "cell_type": "code",
   "execution_count": null,
   "id": "1147a962",
   "metadata": {},
   "outputs": [],
   "source": []
  }
 ],
 "metadata": {
  "kernelspec": {
   "display_name": ".venv",
   "language": "python",
   "name": "python3"
  },
  "language_info": {
   "codemirror_mode": {
    "name": "ipython",
    "version": 3
   },
   "file_extension": ".py",
   "mimetype": "text/x-python",
   "name": "python",
   "nbconvert_exporter": "python",
   "pygments_lexer": "ipython3",
   "version": "3.13.2"
  }
 },
 "nbformat": 4,
 "nbformat_minor": 5
}
